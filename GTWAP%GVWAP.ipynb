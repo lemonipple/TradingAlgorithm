{
 "cells": [
  {
   "cell_type": "code",
   "execution_count": 1,
   "metadata": {
    "collapsed": true
   },
   "outputs": [],
   "source": [
    "import csv\n",
    "\n",
    "# global file path \n",
    "filePath = \"market_price.csv\"\n",
    "\n",
    "# read the csv file to get market data\n",
    "def readData(filePath):\n",
    "    marketDataTable = list()\n",
    "    try:\n",
    "        fileIn = open(filePath, 'r')\n",
    "        reader = csv.reader(fileIn)\n",
    "        for row in reader:\n",
    "            marketDataTable.append(row)\n",
    "    finally:\n",
    "        fileIn.close()\n",
    "    \n",
    "    return marketDataTable\n",
    "\n"
   ]
  },
  {
   "cell_type": "code",
   "execution_count": 2,
   "metadata": {
    "collapsed": true
   },
   "outputs": [],
   "source": [
    "# calculate vwap value\n",
    "def calc_vwap(marketDataTable):\n",
    "    n = len(marketDataTable) - 1\n",
    "    total_sum = 0.0\n",
    "    volume_sum = 0\n",
    "    for i in range(1, n + 1):\n",
    "        high_price = float(marketDataTable[i][9])\n",
    "        low_price = float(marketDataTable[i][10])\n",
    "        price = (high_price + low_price) / 2\n",
    "        volume = int(marketDataTable[i][11])\n",
    "        total_sum += price * volume\n",
    "        volume_sum += volume\n",
    "\n",
    "    return total_sum / volume_sum"
   ]
  },
  {
   "cell_type": "code",
   "execution_count": 3,
   "metadata": {
    "collapsed": true
   },
   "outputs": [],
   "source": [
    "# calculate vwap value\n",
    "def calc_twap(marketDataTable):\n",
    "    n = len(marketDataTable) - 1\n",
    "    price_sum = 0.0\n",
    "    for i in range(1, n + 1):\n",
    "        high_price = float(marketDataTable[i][9])\n",
    "        low_price = float(marketDataTable[i][10])\n",
    "        price = (high_price + low_price) / 2\n",
    "        price_sum += price\n",
    "\n",
    "    return price_sum / n"
   ]
  },
  {
   "cell_type": "code",
   "execution_count": 6,
   "metadata": {
    "collapsed": false
   },
   "outputs": [
    {
     "name": "stdout",
     "output_type": "stream",
     "text": [
      "reading market data\n",
      "calculating TWAP and VWAP\n",
      "VWAP:  8.664746655041299\n",
      "TWAP:  8.667893617021265\n"
     ]
    }
   ],
   "source": [
    "if __name__ == \"__main__\":\n",
    "    print (\"reading market data\")\n",
    "    marketDataTable = readData(filePath)\n",
    "    print (\"calculating TWAP and VWAP\")\n",
    "    print (\"VWAP: \", calc_vwap(marketDataTable) )\n",
    "    print (\"TWAP: \", calc_twap(marketDataTable) )"
   ]
  },
  {
   "cell_type": "code",
   "execution_count": null,
   "metadata": {
    "collapsed": true
   },
   "outputs": [],
   "source": []
  }
 ],
 "metadata": {
  "anaconda-cloud": {},
  "kernelspec": {
   "display_name": "Python [default]",
   "language": "python",
   "name": "python3"
  },
  "language_info": {
   "codemirror_mode": {
    "name": "ipython",
    "version": 3
   },
   "file_extension": ".py",
   "mimetype": "text/x-python",
   "name": "python",
   "nbconvert_exporter": "python",
   "pygments_lexer": "ipython3",
   "version": "3.5.2"
  }
 },
 "nbformat": 4,
 "nbformat_minor": 1
}
